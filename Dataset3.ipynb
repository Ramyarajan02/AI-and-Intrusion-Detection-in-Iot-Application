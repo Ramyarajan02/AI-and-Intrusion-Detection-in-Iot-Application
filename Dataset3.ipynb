{
  "nbformat": 4,
  "nbformat_minor": 0,
  "metadata": {
    "colab": {
      "provenance": []
    },
    "kernelspec": {
      "name": "python3",
      "display_name": "Python 3"
    },
    "language_info": {
      "name": "python"
    }
  },
  "cells": [
    {
      "cell_type": "markdown",
      "source": [
        "**MACHINE LEARNING**"
      ],
      "metadata": {
        "id": "JK4rSlb_BP4C"
      }
    },
    {
      "cell_type": "code",
      "source": [
        "import pandas as pd\n",
        "import joblib\n",
        "from sklearn.model_selection import train_test_split\n",
        "from sklearn.preprocessing import LabelEncoder, StandardScaler\n",
        "from sklearn.ensemble import RandomForestClassifier\n",
        "from sklearn.metrics import accuracy_score\n",
        "\n",
        "# Load dataset\n",
        "df = pd.read_csv('/content/dataset_30000.csv')  # Update path as needed\n",
        "\n",
        "# Optional: Rename columns if needed (if already named, skip this)\n",
        "# df.columns = [f\"col_{i}\" for i in range(len(df.columns)-1)] + ['label']\n",
        "\n",
        "# Keep original label for reference\n",
        "df['attack_type'] = df['Label']\n",
        "\n",
        "# Drop unnecessary columns\n",
        "drop_cols = ['Flow ID', 'Source IP', 'Destination IP', 'Timestamp']\n",
        "df.drop(columns=[col for col in drop_cols if col in df.columns], inplace=True, errors='ignore')\n",
        "\n",
        "# ✅ Fixed label processing\n",
        "df['Label'] = df['Label'].apply(lambda x: 'normal' if 'Normal' in str(x) else 'attack')\n",
        "\n",
        "# Encode label\n",
        "label_encoder = LabelEncoder()\n",
        "df['Label'] = label_encoder.fit_transform(df['Label'])  # normal = 1, attack = 0\n",
        "\n",
        "\n",
        "# Split features and labels\n",
        "X = df.drop(['Label', 'attack_type'], axis=1)\n",
        "y = df['Label']\n",
        "\n",
        "# Train/test split\n",
        "X_train, X_test, y_train, y_test = train_test_split(X, y, test_size=0.2, random_state=42)\n",
        "\n",
        "# Feature scaling\n",
        "scaler = StandardScaler()\n",
        "X_train_scaled = scaler.fit_transform(X_train)\n",
        "X_test_scaled = scaler.transform(X_test)\n",
        "\n",
        "# Train Random Forest model\n",
        "model = RandomForestClassifier()\n",
        "model.fit(X_train_scaled, y_train)\n",
        "\n",
        "# Evaluate accuracy\n",
        "y_pred = model.predict(X_test_scaled)\n",
        "accuracy = accuracy_score(y_test, y_pred)\n",
        "print(f\"ML Model Accuracy: {accuracy * 100:.2f}%\")\n",
        "\n",
        "# Save model, scaler, and label encoder\n",
        "joblib.dump(model, 'ml_model_friday.pkl')\n",
        "joblib.dump(scaler, 'scaler_friday.pkl')\n",
        "joblib.dump(label_encoder, 'label_encoder_friday.pkl')\n"
      ],
      "metadata": {
        "colab": {
          "base_uri": "https://localhost:8080/"
        },
        "id": "0gnDl7U78fU_",
        "outputId": "48edbb1a-c9c5-418a-ce64-07503b4a0df7"
      },
      "execution_count": null,
      "outputs": [
        {
          "output_type": "stream",
          "name": "stdout",
          "text": [
            "ML Model Accuracy: 100.00%\n"
          ]
        },
        {
          "output_type": "execute_result",
          "data": {
            "text/plain": [
              "['label_encoder_friday.pkl']"
            ]
          },
          "metadata": {},
          "execution_count": 4
        }
      ]
    },
    {
      "cell_type": "code",
      "source": [
        "import pandas as pd\n",
        "import joblib\n",
        "from sklearn.preprocessing import LabelEncoder\n",
        "\n",
        "# Load the testing dataset\n",
        "df = pd.read_csv('/content/testing_fri.csv')  # Update path if needed\n",
        "\n",
        "# ✅ Store original attack names before label transformation\n",
        "original_attacks = df['Label'].values.copy()\n",
        "\n",
        "# Drop non-feature columns\n",
        "drop_cols = ['Flow ID', 'Source IP', 'Destination IP', 'Timestamp']\n",
        "df.drop(columns=[col for col in drop_cols if col in df.columns], inplace=True, errors='ignore')\n",
        "\n",
        "# Convert label to binary: 'normal' or 'attack'\n",
        "df['Label'] = df['Label'].apply(lambda x: 'normal' if 'Normal' in str(x) else 'attack')\n",
        "\n",
        "# Load saved objects from training on dataset_30000.csv\n",
        "label_encoder = joblib.load('/content/label_encoder_friday.pkl')\n",
        "scaler = joblib.load('/content/scaler_friday.pkl')\n",
        "ml_model = joblib.load('/content/ml_model_friday.pkl')\n",
        "\n",
        "# Encode the label column\n",
        "df['Label'] = label_encoder.transform(df['Label'])\n",
        "\n",
        "# Prepare features\n",
        "X_test = df.drop(['Label'], axis=1)\n",
        "X_test_scaled = scaler.transform(X_test)\n",
        "\n",
        "# 🎯 Select 3 random samples\n",
        "sample_df = df.sample(n=3, random_state=42)\n",
        "sample_indices = sample_df.index\n",
        "sample_X_scaled = X_test_scaled[sample_indices]\n",
        "\n",
        "# Predict\n",
        "sample_preds = ml_model.predict(sample_X_scaled)\n",
        "sample_attack_names = original_attacks[sample_indices]  # ✅ Show true attack type\n",
        "\n",
        "# 🖨️ Display predictions\n",
        "print(\"\\n🔍 ML Predictions on 3 Random Samples (Friday Testing Dataset):\")\n",
        "for i, (pred, attack_name) in enumerate(zip(sample_preds, sample_attack_names)):\n",
        "    status = \"✅ Normal\" if pred == 1 else \" Attack Detected\"\n",
        "    print(f\"Sample {i+1}: {status} | Attack Type: {attack_name}\")\n"
      ],
      "metadata": {
        "colab": {
          "base_uri": "https://localhost:8080/"
        },
        "id": "lfFiHqxJ-pPH",
        "outputId": "569b2ae2-14d9-4b09-d4af-b928da6aa7f9"
      },
      "execution_count": null,
      "outputs": [
        {
          "output_type": "stream",
          "name": "stdout",
          "text": [
            "\n",
            "🔍 ML Predictions on 3 Random Samples (Friday Testing Dataset):\n",
            "Sample 1:  Attack Detected | Attack Type: Portscan\n",
            "Sample 2:  Attack Detected | Attack Type: Portscan\n",
            "Sample 3:  Attack Detected | Attack Type: Botnet - Attempted\n"
          ]
        }
      ]
    },
    {
      "cell_type": "markdown",
      "source": [
        "**DEEP LEARNING**"
      ],
      "metadata": {
        "id": "JcSOaZLy_mE6"
      }
    },
    {
      "cell_type": "code",
      "source": [
        "import pandas as pd\n",
        "import joblib\n",
        "import numpy as np\n",
        "from sklearn.preprocessing import LabelEncoder, StandardScaler\n",
        "from sklearn.model_selection import train_test_split\n",
        "from keras.models import Sequential\n",
        "from keras.layers import Dense, Dropout\n",
        "\n",
        "# Load the Friday dataset\n",
        "df = pd.read_csv('/content/dataset_30000.csv')  # Update path if needed\n",
        "\n",
        "# Keep a copy of the original attack labels\n",
        "df['attack_type'] = df['Label']\n",
        "\n",
        "# Drop unnecessary string columns\n",
        "drop_cols = ['Flow ID', 'Source IP', 'Destination IP', 'Timestamp']\n",
        "df.drop(columns=[col for col in drop_cols if col in df.columns], inplace=True, errors='ignore')\n",
        "\n",
        "# Convert label to binary: normal vs attack\n",
        "df['Label'] = df['Label'].apply(lambda x: 'normal' if 'Normal' in str(x) else 'attack')\n",
        "\n",
        "# Encode label: normal=1, attack=0\n",
        "label_encoder = LabelEncoder()\n",
        "df['Label'] = label_encoder.fit_transform(df['Label'])\n",
        "\n",
        "# Features and label\n",
        "X = df.drop(['Label', 'attack_type'], axis=1)\n",
        "y = df['Label']\n",
        "\n",
        "# Train-test split\n",
        "X_train, X_test, y_train, y_test = train_test_split(X, y, test_size=0.2, random_state=42)\n",
        "\n",
        "# Scale features\n",
        "scaler = StandardScaler()\n",
        "X_train_scaled = scaler.fit_transform(X_train)\n",
        "X_test_scaled = scaler.transform(X_test)\n",
        "\n",
        "# Build deep learning model\n",
        "model = Sequential([\n",
        "    Dense(64, activation='relu', input_shape=(X_train_scaled.shape[1],)),\n",
        "    Dropout(0.3),\n",
        "    Dense(32, activation='relu'),\n",
        "    Dropout(0.2),\n",
        "    Dense(1, activation='sigmoid')\n",
        "])\n",
        "\n",
        "# Compile\n",
        "model.compile(optimizer='adam', loss='binary_crossentropy', metrics=['accuracy'])\n",
        "\n",
        "# Train\n",
        "model.fit(X_train_scaled, y_train, epochs=10, batch_size=32, validation_split=0.2)\n",
        "\n",
        "# Evaluate on test data\n",
        "loss, accuracy = model.evaluate(X_test_scaled, y_test, verbose=0)\n",
        "print(f\"🧠 DL Model Test Accuracy: {accuracy * 100:.2f}%\")\n",
        "\n",
        "# Save model and encoders\n",
        "model.save('dl_model_friday.h5')\n",
        "joblib.dump(scaler, 'scaler_friday.pkl')\n",
        "joblib.dump(label_encoder, 'label_encoder_friday.pkl')\n",
        "\n",
        "\n"
      ],
      "metadata": {
        "colab": {
          "base_uri": "https://localhost:8080/"
        },
        "id": "4PWACwmf_pdY",
        "outputId": "3cb5285e-c99a-46a7-a330-4639907e4064"
      },
      "execution_count": null,
      "outputs": [
        {
          "output_type": "stream",
          "name": "stderr",
          "text": [
            "/usr/local/lib/python3.11/dist-packages/keras/src/layers/core/dense.py:87: UserWarning: Do not pass an `input_shape`/`input_dim` argument to a layer. When using Sequential models, prefer using an `Input(shape)` object as the first layer in the model instead.\n",
            "  super().__init__(activity_regularizer=activity_regularizer, **kwargs)\n"
          ]
        },
        {
          "output_type": "stream",
          "name": "stdout",
          "text": [
            "Epoch 1/10\n",
            "\u001b[1m178/178\u001b[0m \u001b[32m━━━━━━━━━━━━━━━━━━━━\u001b[0m\u001b[37m\u001b[0m \u001b[1m2s\u001b[0m 4ms/step - accuracy: 0.9110 - loss: nan - val_accuracy: 1.0000 - val_loss: nan\n",
            "Epoch 2/10\n",
            "\u001b[1m178/178\u001b[0m \u001b[32m━━━━━━━━━━━━━━━━━━━━\u001b[0m\u001b[37m\u001b[0m \u001b[1m1s\u001b[0m 3ms/step - accuracy: 1.0000 - loss: nan - val_accuracy: 1.0000 - val_loss: nan\n",
            "Epoch 3/10\n",
            "\u001b[1m178/178\u001b[0m \u001b[32m━━━━━━━━━━━━━━━━━━━━\u001b[0m\u001b[37m\u001b[0m \u001b[1m1s\u001b[0m 6ms/step - accuracy: 1.0000 - loss: nan - val_accuracy: 1.0000 - val_loss: nan\n",
            "Epoch 4/10\n",
            "\u001b[1m178/178\u001b[0m \u001b[32m━━━━━━━━━━━━━━━━━━━━\u001b[0m\u001b[37m\u001b[0m \u001b[1m1s\u001b[0m 3ms/step - accuracy: 1.0000 - loss: nan - val_accuracy: 1.0000 - val_loss: nan\n",
            "Epoch 5/10\n",
            "\u001b[1m178/178\u001b[0m \u001b[32m━━━━━━━━━━━━━━━━━━━━\u001b[0m\u001b[37m\u001b[0m \u001b[1m1s\u001b[0m 4ms/step - accuracy: 1.0000 - loss: nan - val_accuracy: 1.0000 - val_loss: nan\n",
            "Epoch 6/10\n",
            "\u001b[1m178/178\u001b[0m \u001b[32m━━━━━━━━━━━━━━━━━━━━\u001b[0m\u001b[37m\u001b[0m \u001b[1m1s\u001b[0m 5ms/step - accuracy: 1.0000 - loss: nan - val_accuracy: 1.0000 - val_loss: nan\n",
            "Epoch 7/10\n",
            "\u001b[1m178/178\u001b[0m \u001b[32m━━━━━━━━━━━━━━━━━━━━\u001b[0m\u001b[37m\u001b[0m \u001b[1m1s\u001b[0m 3ms/step - accuracy: 1.0000 - loss: nan - val_accuracy: 1.0000 - val_loss: nan\n",
            "Epoch 8/10\n",
            "\u001b[1m178/178\u001b[0m \u001b[32m━━━━━━━━━━━━━━━━━━━━\u001b[0m\u001b[37m\u001b[0m \u001b[1m1s\u001b[0m 3ms/step - accuracy: 1.0000 - loss: nan - val_accuracy: 1.0000 - val_loss: nan\n",
            "Epoch 9/10\n",
            "\u001b[1m178/178\u001b[0m \u001b[32m━━━━━━━━━━━━━━━━━━━━\u001b[0m\u001b[37m\u001b[0m \u001b[1m1s\u001b[0m 3ms/step - accuracy: 1.0000 - loss: nan - val_accuracy: 1.0000 - val_loss: nan\n",
            "Epoch 10/10\n",
            "\u001b[1m178/178\u001b[0m \u001b[32m━━━━━━━━━━━━━━━━━━━━\u001b[0m\u001b[37m\u001b[0m \u001b[1m1s\u001b[0m 3ms/step - accuracy: 1.0000 - loss: nan - val_accuracy: 1.0000 - val_loss: nan\n"
          ]
        },
        {
          "output_type": "stream",
          "name": "stderr",
          "text": [
            "WARNING:absl:You are saving your model as an HDF5 file via `model.save()` or `keras.saving.save_model(model)`. This file format is considered legacy. We recommend using instead the native Keras format, e.g. `model.save('my_model.keras')` or `keras.saving.save_model(model, 'my_model.keras')`. \n"
          ]
        },
        {
          "output_type": "stream",
          "name": "stdout",
          "text": [
            "🧠 DL Model Test Accuracy: 100.00%\n"
          ]
        },
        {
          "output_type": "execute_result",
          "data": {
            "text/plain": [
              "['label_encoder_friday.pkl']"
            ]
          },
          "metadata": {},
          "execution_count": 5
        }
      ]
    },
    {
      "cell_type": "code",
      "source": [
        "import pandas as pd\n",
        "import numpy as np\n",
        "import joblib\n",
        "from tensorflow.keras.models import load_model\n",
        "from sklearn.preprocessing import LabelEncoder\n",
        "\n",
        "# Load the Friday testing dataset\n",
        "df = pd.read_csv('/content/testing_fri.csv')  # Update path if needed\n",
        "\n",
        "# Save original attack type names\n",
        "original_attacks = df['Label'].values.copy()\n",
        "\n",
        "# Drop unnecessary columns\n",
        "drop_cols = ['Flow ID', 'Source IP', 'Destination IP', 'Timestamp']\n",
        "df.drop(columns=[col for col in drop_cols if col in df.columns], inplace=True, errors='ignore')\n",
        "\n",
        "# Convert label to 'normal' or 'attack'\n",
        "df['Label'] = df['Label'].apply(lambda x: 'normal' if 'Normal' in str(x) else 'attack')\n",
        "\n",
        "# Load pre-trained model and encoders from training on dataset_30000.csv\n",
        "label_encoder = joblib.load('label_encoder_friday.pkl')\n",
        "scaler = joblib.load('scaler_friday.pkl')\n",
        "dl_model = load_model('dl_model_friday.h5')\n",
        "\n",
        "# Encode labels\n",
        "df['Label'] = label_encoder.transform(df['Label'])\n",
        "\n",
        "# Prepare test features\n",
        "X_test = df.drop(['Label'], axis=1)\n",
        "X_test_scaled = scaler.transform(X_test)\n",
        "\n",
        "# Select 10 random samples for testing\n",
        "sample_df = df.sample(n=10)\n",
        "sample_indices = sample_df.index\n",
        "sample_X_scaled = X_test_scaled[sample_indices]\n",
        "sample_attack_names = original_attacks[sample_indices]\n",
        "\n",
        "# Predict using DL model\n",
        "sample_preds_probs = dl_model.predict(sample_X_scaled)\n",
        "sample_preds = (sample_preds_probs > 0.5).astype(int).flatten()\n",
        "\n",
        "# 🖨️ Display predictions\n",
        "print(\"\\n🔍 DL Predictions on 10 Random Samples (Friday Dataset):\")\n",
        "for i, (pred, attack_name) in enumerate(zip(sample_preds, sample_attack_names)):\n",
        "    status = \"Normal\" if pred == 1 else \"Attack Detected\"\n",
        "    print(f\"Sample {i+5}: {status} | Attack Type: {attack_name}\")\n"
      ],
      "metadata": {
        "colab": {
          "base_uri": "https://localhost:8080/"
        },
        "id": "15rpnMH2AC0I",
        "outputId": "2fb4cc74-5eaa-439f-be25-fb0a0818a472"
      },
      "execution_count": null,
      "outputs": [
        {
          "output_type": "stream",
          "name": "stderr",
          "text": [
            "WARNING:absl:Compiled the loaded model, but the compiled metrics have yet to be built. `model.compile_metrics` will be empty until you train or evaluate the model.\n"
          ]
        },
        {
          "output_type": "stream",
          "name": "stdout",
          "text": [
            "\u001b[1m1/1\u001b[0m \u001b[32m━━━━━━━━━━━━━━━━━━━━\u001b[0m\u001b[37m\u001b[0m \u001b[1m0s\u001b[0m 74ms/step\n",
            "\n",
            "🔍 DL Predictions on 10 Random Samples (Friday Dataset):\n",
            "Sample 5: Attack Detected | Attack Type: Portscan\n",
            "Sample 6: Attack Detected | Attack Type: BENIGN\n",
            "Sample 7: Attack Detected | Attack Type: BENIGN\n",
            "Sample 8: Attack Detected | Attack Type: BENIGN\n",
            "Sample 9: Attack Detected | Attack Type: BENIGN\n",
            "Sample 10: Attack Detected | Attack Type: BENIGN\n",
            "Sample 11: Attack Detected | Attack Type: BENIGN\n",
            "Sample 12: Attack Detected | Attack Type: BENIGN\n",
            "Sample 13: Attack Detected | Attack Type: BENIGN\n",
            "Sample 14: Attack Detected | Attack Type: BENIGN\n"
          ]
        }
      ]
    }
  ]
}